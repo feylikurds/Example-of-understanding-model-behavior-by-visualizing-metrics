{
 "cells": [
  {
   "cell_type": "code",
   "execution_count": null,
   "id": "f476e914-a3d3-4cfc-8cb3-c755f2c1d4d3",
   "metadata": {},
   "outputs": [],
   "source": [
    "\"\"\"\n",
    "Example of understanding model behavior by visualizing metrics.\n",
    "Copyright (C) 2023 Aryo Pehlewan aryopehlewan@hotmail.com\n",
    "This program is free software: you can redistribute it and/or modify\n",
    "it under the terms of the GNU General Public License as published by\n",
    "the Free Software Foundation, either version 3 of the License, or\n",
    "(at your option) any later version.\n",
    "This program is distributed in the hope that it will be useful,\n",
    "but WITHOUT ANY WARRANTY; without even the implied warranty of\n",
    "MERCHANTABILITY or FITNESS FOR A PARTICULAR PURPOSE.  See the\n",
    "GNU General Public License for more details.\n",
    "You should have received a copy of the GNU General Public License\n",
    "along with this program.  If not, see <http://www.gnu.org/licenses/>.\n",
    "\"\"\""
   ]
  },
  {
   "cell_type": "code",
   "execution_count": 1,
   "id": "21cc8011-a429-48c4-9264-f74d8c66ea9a",
   "metadata": {
    "tags": []
   },
   "outputs": [],
   "source": [
    "import matplotlib.pyplot as plt\n",
    "import numpy as np\n",
    "import torch\n",
    "import torch.nn as nn\n",
    "import torch.optim as optim\n",
    "from sklearn.datasets import fetch_california_housing\n",
    "from sklearn.model_selection import train_test_split\n",
    "from sklearn.preprocessing import StandardScaler"
   ]
  },
  {
   "cell_type": "code",
   "execution_count": 2,
   "id": "e2fd1a40-15d4-4401-b722-4f53167c64b2",
   "metadata": {
    "tags": []
   },
   "outputs": [],
   "source": [
    "# Read data\n",
    "data = fetch_california_housing()\n",
    "X, y = data.data, data.target"
   ]
  },
  {
   "cell_type": "code",
   "execution_count": 3,
   "id": "7f60893f-9b89-4e40-b697-439736f3a07c",
   "metadata": {
    "tags": []
   },
   "outputs": [],
   "source": [
    "# train-test split for model evaluation\n",
    "X_train_raw, X_test_raw, y_train, y_test = train_test_split(X, y, train_size=0.7, shuffle=True)"
   ]
  },
  {
   "cell_type": "code",
   "execution_count": 4,
   "id": "cf984bca-0565-40d6-bdfe-6eb7c24c6bdb",
   "metadata": {
    "tags": []
   },
   "outputs": [],
   "source": [
    "# Standardizing data\n",
    "scaler = StandardScaler()\n",
    "scaler.fit(X_train_raw)\n",
    "X_train = scaler.transform(X_train_raw)\n",
    "X_test = scaler.transform(X_test_raw)"
   ]
  },
  {
   "cell_type": "code",
   "execution_count": 5,
   "id": "121c3506-0079-4642-a2a7-f76e1862d793",
   "metadata": {
    "tags": []
   },
   "outputs": [],
   "source": [
    "# Convert to 2D PyTorch tensors\n",
    "X_train = torch.tensor(X_train, dtype=torch.float32)\n",
    "y_train = torch.tensor(y_train, dtype=torch.float32).reshape(-1, 1)\n",
    "X_test = torch.tensor(X_test, dtype=torch.float32)\n",
    "y_test = torch.tensor(y_test, dtype=torch.float32).reshape(-1, 1)"
   ]
  },
  {
   "cell_type": "code",
   "execution_count": 6,
   "id": "6f532e68-b202-45c3-a45f-c9b5fd456583",
   "metadata": {
    "tags": []
   },
   "outputs": [],
   "source": [
    "# Define the model\n",
    "model = nn.Sequential(\n",
    "    nn.Linear(8, 24),\n",
    "    nn.ReLU(),\n",
    "    nn.Linear(24, 12),\n",
    "    nn.ReLU(),\n",
    "    nn.Linear(12, 6),\n",
    "    nn.ReLU(),\n",
    "    nn.Linear(6, 1)\n",
    ")"
   ]
  },
  {
   "cell_type": "code",
   "execution_count": 7,
   "id": "81d98de3-c4a0-4c4d-bbe4-0bf93fb44b1d",
   "metadata": {
    "tags": []
   },
   "outputs": [],
   "source": [
    "# loss function, metrics, and optimizer\n",
    "loss_fn = nn.MSELoss()  # mean square error\n",
    "mae_fn = nn.L1Loss()  # mean absolute error\n",
    "optimizer = optim.Adam(model.parameters(), lr=0.001)\n",
    " \n",
    "n_epochs = 100   # number of epochs to run\n",
    "batch_size = 32  # size of each batch\n",
    "batch_start = torch.arange(0, len(X_train), batch_size)\n",
    " \n",
    "train_mse_history = []\n",
    "test_mse_history = []\n",
    "test_mae_history = []"
   ]
  },
  {
   "cell_type": "code",
   "execution_count": 8,
   "id": "677de3ce-9d51-4ff1-a9dd-b9a59ee6fd1c",
   "metadata": {
    "tags": []
   },
   "outputs": [],
   "source": [
    "for epoch in range(n_epochs):\n",
    "    model.train()\n",
    "    epoch_mse = []\n",
    "    for start in batch_start:\n",
    "        # take a batch\n",
    "        X_batch = X_train[start:start+batch_size]\n",
    "        y_batch = y_train[start:start+batch_size]\n",
    "        # forward pass\n",
    "        y_pred = model(X_batch)\n",
    "        loss = loss_fn(y_pred, y_batch)\n",
    "        epoch_mse.append(float(loss))\n",
    "        # backward pass\n",
    "        optimizer.zero_grad()\n",
    "        loss.backward()\n",
    "        # update weights\n",
    "        optimizer.step()\n",
    "    mean_mse = sum(epoch_mse) / len(epoch_mse)\n",
    "    train_mse_history.append(mean_mse)\n",
    "    # validate model on test set\n",
    "    model.eval()\n",
    "    with torch.no_grad():\n",
    "        y_pred = model(X_test)\n",
    "        mse = loss_fn(y_pred, y_test)\n",
    "        mae = mae_fn(y_pred, y_test)\n",
    "        test_mse_history.append(float(mse))\n",
    "        test_mae_history.append(float(mae))"
   ]
  },
  {
   "cell_type": "code",
   "execution_count": 9,
   "id": "bc1c6a3d-9d62-47f4-bf97-29d5e4d7b2f0",
   "metadata": {
    "tags": []
   },
   "outputs": [
    {
     "data": {
      "image/png": "[encoded data removed]",
      "text/plain": [
       "<Figure size 640x480 with 1 Axes>"
      ]
     },
     "metadata": {},
     "output_type": "display_data"
    }
   ],
   "source": [
    "plt.plot(np.sqrt(train_mse_history), label=\"Train RMSE\")\n",
    "plt.plot(np.sqrt(test_mse_history), label=\"Test RMSE\")\n",
    "plt.plot(test_mae_history, label=\"Test MAE\")\n",
    "plt.xlabel(\"epochs\")\n",
    "plt.legend()\n",
    "plt.show()"
   ]
  },
  {
   "cell_type": "code",
   "execution_count": null,
   "id": "48bc676c-9bdb-48e7-a75b-0b208eed3112",
   "metadata": {},
   "outputs": [],
   "source": []
  }
 ],
 "metadata": {
  "kernelspec": {
   "display_name": "Python 3 (ipykernel)",
   "language": "python",
   "name": "python3"
  },
  "language_info": {
   "codemirror_mode": {
    "name": "ipython",
    "version": 3
   },
   "file_extension": ".py",
   "mimetype": "text/x-python",
   "name": "python",
   "nbconvert_exporter": "python",
   "pygments_lexer": "ipython3",
   "version": "3.10.6"
  }
 },
 "nbformat": 4,
 "nbformat_minor": 5
}
